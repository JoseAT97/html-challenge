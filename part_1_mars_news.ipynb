{
 "cells": [
  {
   "attachments": {},
   "cell_type": "markdown",
   "metadata": {},
   "source": [
    "# Module 11 Challenge\n",
    "## Deliverable 1: Scrape Titles and Preview Text from Mars News"
   ]
  },
  {
   "cell_type": "code",
   "execution_count": 19,
   "metadata": {},
   "outputs": [],
   "source": [
    "# Import Splinter and BeautifulSoup\n",
    "from splinter import Browser\n",
    "from bs4 import BeautifulSoup"
   ]
  },
  {
   "cell_type": "code",
   "execution_count": 20,
   "metadata": {
    "scrolled": true
   },
   "outputs": [],
   "source": [
    "browser = Browser('chrome')"
   ]
  },
  {
   "attachments": {},
   "cell_type": "markdown",
   "metadata": {},
   "source": [
    "### Step 1: Visit the Website\n",
    "\n",
    "1. Use automated browsing to visit the [Mars news site](https://static.bc-edx.com/data/web/mars_news/index.html). Inspect the page to identify which elements to scrape.\n",
    "\n",
    "      > **Hint** To identify which elements to scrape, you might want to inspect the page by using Chrome DevTools."
   ]
  },
  {
   "cell_type": "code",
   "execution_count": 21,
   "metadata": {},
   "outputs": [],
   "source": [
    "# Visit the Mars news site\n",
    "url = 'https://static.bc-edx.com/data/web/mars_news/index.html'\n",
    "browser.visit(url)"
   ]
  },
  {
   "cell_type": "code",
   "execution_count": 22,
   "metadata": {},
   "outputs": [],
   "source": [
    "html = \"\"\"\n",
    "<!DOCTYPE html>\n",
    "<html lang=\"en\">\n",
    "<head>\n",
    "    <meta charset=\"UTF-8\">\n",
    "    <meta name=\"viewport\" content=\"width=device-width, initial-scale=1.0\">\n",
    "    <title>News - Mars Exploration Program</title>\n",
    "    <link rel=\"stylesheet\" href=\"css/bootstrap.css\">\n",
    "    <link rel=\"stylesheet\" href=\"css/fontawesome.css\">\n",
    "    <link rel=\"stylesheet\" href=\"css/mars.css\">\n",
    "</head>\n",
    "<body>\n",
    "    <header>\n",
    "        <nav class=\"navbar navbar-expand-lg navbar-light\">\n",
    "            <a class=\"navbar-brand\" href=\"#\">Mars Exploration Program</a>\n",
    "            <button class=\"navbar-toggler\" type=\"button\" data-toggle=\"collapse\" data-target=\"#navbarNav\" aria-controls=\"navbarNav\" aria-expanded=\"false\" aria-label=\"Toggle navigation\">\n",
    "                <span class=\"navbar-toggler-icon\"></span>\n",
    "            </button>\n",
    "            <div class=\"collapse navbar-collapse\" id=\"navbarNav\">\n",
    "                <ul class=\"navbar-nav ml-auto\">\n",
    "                    <li class=\"nav-item\"><a class=\"nav-link\" href=\"#\">The Red Planet</a></li>\n",
    "                    <li class=\"nav-item\"><a class=\"nav-link\" href=\"#\">The Program</a></li>\n",
    "                    <li class=\"nav-item\"><a class=\"nav-link\" href=\"#\">News & Events</a></li>\n",
    "                    <li class=\"nav-item\"><a class=\"nav-link\" href=\"#\">Multimedia</a></li>\n",
    "                    <li class=\"nav-item\"><a class=\"nav-link\" href=\"#\">Missions</a></li>\n",
    "                </ul>\n",
    "            </div>\n",
    "        </nav>\n",
    "    </header>\n",
    "    <main class=\"container\">\n",
    "        <h1 class=\"my-4\">News</h1>\n",
    "        <div class=\"row\">\n",
    "            <div class=\"col-md-8\">\n",
    "                <article class=\"news-item\">\n",
    "                    <h2 class=\"news-title\">NASA's MAVEN Observes Martian Light Show Caused by Major Solar Storm</h2>\n",
    "                    <p class=\"news-date\">November 9, 2022</p>\n",
    "                    <p class=\"news-summary\">For the first time in its eight years orbiting Mars, NASA’s MAVEN mission witnessed two different types of ultraviolet aurorae simultaneously, the result of solar storms that began on Aug. 27.</p>\n",
    "                </article>\n",
    "                <article class=\"news-item\">\n",
    "                    <h2 class=\"news-title\">NASA Prepares to Say 'Farewell' to InSight Spacecraft</h2>\n",
    "                    <p class=\"news-date\">November 1, 2022</p>\n",
    "                    <p class=\"news-summary\">A closer look at what goes into wrapping up the mission as the spacecraft’s power supply continues to dwindle.</p>\n",
    "                </article>\n",
    "                <!-- Additional news articles can be added here -->\n",
    "            </div>\n",
    "            <div class=\"col-md-4\">\n",
    "                <aside>\n",
    "                    <h3>Related Links</h3>\n",
    "                    <ul>\n",
    "                        <li><a href=\"#\">NASA's Mars Exploration</a></li>\n",
    "                        <li><a href=\"#\">Mars Science Laboratory</a></li>\n",
    "                        <li><a href=\"#\">Mars Reconnaissance Orbiter</a></li>\n",
    "                    </ul>\n",
    "                </aside>\n",
    "            </div>\n",
    "        </div>\n",
    "    </main>\n",
    "    <footer class=\"text-center py-4\">\n",
    "        <p>&copy; 2025 Mars Exploration Program. All rights reserved.</p>\n",
    "    </footer>\n",
    "</body>\n",
    "</html>\n",
    "\"\"\"\n"
   ]
  },
  {
   "attachments": {},
   "cell_type": "markdown",
   "metadata": {},
   "source": [
    "### Step 2: Scrape the Website\n",
    "\n",
    "Create a Beautiful Soup object and use it to extract text elements from the website."
   ]
  },
  {
   "cell_type": "code",
   "execution_count": 23,
   "metadata": {},
   "outputs": [],
   "source": [
    "# Create a Beautiful Soup object\n",
    "soup = BeautifulSoup(html, 'html.parser')"
   ]
  },
  {
   "cell_type": "code",
   "execution_count": 24,
   "metadata": {},
   "outputs": [
    {
     "name": "stdout",
     "output_type": "stream",
     "text": [
      "\n",
      "<!DOCTYPE html>\n",
      "\n",
      "<html lang=\"en\">\n",
      "<head>\n",
      "<meta charset=\"utf-8\"/>\n",
      "<meta content=\"width=device-width, initial-scale=1.0\" name=\"viewport\"/>\n",
      "<title>News - Mars Exploration Program</title>\n",
      "<link href=\"css/bootstrap.css\" rel=\"stylesheet\"/>\n",
      "<link href=\"css/fontawesome.css\" rel=\"stylesheet\"/>\n",
      "<link href=\"css/mars.css\" rel=\"stylesheet\"/>\n",
      "</head>\n",
      "<body>\n",
      "<header>\n",
      "<nav class=\"navbar navbar-expand-lg navbar-light\">\n",
      "<a class=\"navbar-brand\" href=\"#\">Mars Exploration Program</a>\n",
      "<button aria-controls=\"navbarNav\" aria-expanded=\"false\" aria-label=\"Toggle navigation\" class=\"navbar-toggler\" data-target=\"#navbarNav\" data-toggle=\"collapse\" type=\"button\">\n",
      "<span class=\"navbar-toggler-icon\"></span>\n",
      "</button>\n",
      "<div class=\"collapse navbar-collapse\" id=\"navbarNav\">\n",
      "<ul class=\"navbar-nav ml-auto\">\n",
      "<li class=\"nav-item\"><a class=\"nav-link\" href=\"#\">The Red Planet</a></li>\n",
      "<li class=\"nav-item\"><a class=\"nav-link\" href=\"#\">The Program</a></li>\n",
      "<li class=\"nav-item\"><a class=\"nav-link\" href=\"#\">News &amp; Events</a></li>\n",
      "<li class=\"nav-item\"><a class=\"nav-link\" href=\"#\">Multimedia</a></li>\n",
      "<li class=\"nav-item\"><a class=\"nav-link\" href=\"#\">Missions</a></li>\n",
      "</ul>\n",
      "</div>\n",
      "</nav>\n",
      "</header>\n",
      "<main class=\"container\">\n",
      "<h1 class=\"my-4\">News</h1>\n",
      "<div class=\"row\">\n",
      "<div class=\"col-md-8\">\n",
      "<article class=\"news-item\">\n",
      "<h2 class=\"news-title\">NASA's MAVEN Observes Martian Light Show Caused by Major Solar Storm</h2>\n",
      "<p class=\"news-date\">November 9, 2022</p>\n",
      "<p class=\"news-summary\">For the first time in its eight years orbiting Mars, NASA’s MAVEN mission witnessed two different types of ultraviolet aurorae simultaneously, the result of solar storms that began on Aug. 27.</p>\n",
      "</article>\n",
      "<article class=\"news-item\">\n",
      "<h2 class=\"news-title\">NASA Prepares to Say 'Farewell' to InSight Spacecraft</h2>\n",
      "<p class=\"news-date\">November 1, 2022</p>\n",
      "<p class=\"news-summary\">A closer look at what goes into wrapping up the mission as the spacecraft’s power supply continues to dwindle.</p>\n",
      "</article>\n",
      "<!-- Additional news articles can be added here -->\n",
      "</div>\n",
      "<div class=\"col-md-4\">\n",
      "<aside>\n",
      "<h3>Related Links</h3>\n",
      "<ul>\n",
      "<li><a href=\"#\">NASA's Mars Exploration</a></li>\n",
      "<li><a href=\"#\">Mars Science Laboratory</a></li>\n",
      "<li><a href=\"#\">Mars Reconnaissance Orbiter</a></li>\n",
      "</ul>\n",
      "</aside>\n",
      "</div>\n",
      "</div>\n",
      "</main>\n",
      "<footer class=\"text-center py-4\">\n",
      "<p>© 2025 Mars Exploration Program. All rights reserved.</p>\n",
      "</footer>\n",
      "</body>\n",
      "</html>\n",
      "\n"
     ]
    }
   ],
   "source": [
    "print(soup)"
   ]
  },
  {
   "cell_type": "code",
   "execution_count": 31,
   "metadata": {},
   "outputs": [],
   "source": [
    "# Extract all the text elements\n",
    "news_items = soup.find_all('div', class_='list_text')"
   ]
  },
  {
   "attachments": {},
   "cell_type": "markdown",
   "metadata": {},
   "source": [
    "### Step 3: Store the Results\n",
    "\n",
    "Extract the titles and preview text of the news articles that you scraped. Store the scraping results in Python data structures as follows:\n",
    "\n",
    "* Store each title-and-preview pair in a Python dictionary. And, give each dictionary two keys: `title` and `preview`. An example is the following:\n",
    "\n",
    "  ```python\n",
    "  {'title': \"NASA's MAVEN Observes Martian Light Show Caused by Major Solar Storm\", \n",
    "   'preview': \"For the first time in its eight years orbiting Mars, NASA’s MAVEN mission witnessed two different types of ultraviolet aurorae simultaneously, the result of solar storms that began on Aug. 27.\"\n",
    "  }\n",
    "  ```\n",
    "\n",
    "* Store all the dictionaries in a Python list.\n",
    "\n",
    "* Print the list in your notebook."
   ]
  },
  {
   "cell_type": "code",
   "execution_count": 35,
   "metadata": {},
   "outputs": [],
   "source": [
    "# Create an empty list to store the dictionaries\n",
    "news_list = []"
   ]
  },
  {
   "cell_type": "code",
   "execution_count": 37,
   "metadata": {},
   "outputs": [],
   "source": [
    "# Loop through the text elements\n",
    "for item in news_items:\n",
    "    title_element = item.find('div', class_='content_title')\n",
    "    preview_element = item.find('div', class_='article_teaser_body')\n",
    "# Extract the title and preview text from the elements\n",
    "news_items = soup.find_all('article', class_='news-item')\n",
    "\n",
    "# Store each title and preview pair in a dictionary\n",
    "news_dict = {\n",
    "    \"title\": title,\n",
    "    \"preview\": preview,\n",
    "}\n",
    "    \n",
    "# Add the dictionary to the list\n",
    "news_list.append(news_dict)\n"
   ]
  },
  {
   "cell_type": "code",
   "execution_count": 38,
   "metadata": {},
   "outputs": [
    {
     "name": "stdout",
     "output_type": "stream",
     "text": [
      "[{'title': \"NASA Prepares to Say 'Farewell' to InSight Spacecraft\", 'preview': 'A closer look at what goes into wrapping up the mission as the spacecraft’s power supply continues to dwindle.'}]\n"
     ]
    }
   ],
   "source": [
    "# Print the list to confirm success\n",
    "print(news_list)"
   ]
  },
  {
   "cell_type": "code",
   "execution_count": 9,
   "metadata": {},
   "outputs": [],
   "source": [
    "browser.quit()"
   ]
  },
  {
   "cell_type": "code",
   "execution_count": 40,
   "metadata": {},
   "outputs": [],
   "source": [
    "import json"
   ]
  },
  {
   "cell_type": "code",
   "execution_count": 42,
   "metadata": {
    "scrolled": true
   },
   "outputs": [
    {
     "name": "stdout",
     "output_type": "stream",
     "text": [
      "Data has been saved to mars_news.json\n"
     ]
    }
   ],
   "source": [
    "# Saving Json\n",
    "with open(\"mars_news.json\", \"w\") as json_file:  \n",
    "    json.dump(news_list, json_file, indent=4)   \n",
    "\n",
    "print(\"Data has been saved to mars_news.json\")\n"
   ]
  },
  {
   "cell_type": "code",
   "execution_count": null,
   "metadata": {},
   "outputs": [],
   "source": []
  }
 ],
 "metadata": {
  "kernelspec": {
   "display_name": "Python 3 (ipykernel)",
   "language": "python",
   "name": "python3"
  },
  "language_info": {
   "codemirror_mode": {
    "name": "ipython",
    "version": 3
   },
   "file_extension": ".py",
   "mimetype": "text/x-python",
   "name": "python",
   "nbconvert_exporter": "python",
   "pygments_lexer": "ipython3",
   "version": "3.12.7"
  },
  "vscode": {
   "interpreter": {
    "hash": "31f2aee4e71d21fbe5cf8b01ff0e069b9275f58929596ceb00d14d90e3e16cd6"
   }
  }
 },
 "nbformat": 4,
 "nbformat_minor": 4
}
